{
 "cells": [
  {
   "cell_type": "code",
   "execution_count": 2,
   "metadata": {},
   "outputs": [
    {
     "data": {
      "text/html": [
       "<div>\n",
       "<style scoped>\n",
       "    .dataframe tbody tr th:only-of-type {\n",
       "        vertical-align: middle;\n",
       "    }\n",
       "\n",
       "    .dataframe tbody tr th {\n",
       "        vertical-align: top;\n",
       "    }\n",
       "\n",
       "    .dataframe thead th {\n",
       "        text-align: right;\n",
       "    }\n",
       "</style>\n",
       "<table border=\"1\" class=\"dataframe\">\n",
       "  <thead>\n",
       "    <tr style=\"text-align: right;\">\n",
       "      <th></th>\n",
       "      <th>Postal Code</th>\n",
       "      <th>Latitude</th>\n",
       "      <th>Longitude</th>\n",
       "    </tr>\n",
       "  </thead>\n",
       "  <tbody>\n",
       "    <tr>\n",
       "      <th>0</th>\n",
       "      <td>M1B</td>\n",
       "      <td>43.806686</td>\n",
       "      <td>-79.194353</td>\n",
       "    </tr>\n",
       "    <tr>\n",
       "      <th>1</th>\n",
       "      <td>M1C</td>\n",
       "      <td>43.784535</td>\n",
       "      <td>-79.160497</td>\n",
       "    </tr>\n",
       "    <tr>\n",
       "      <th>2</th>\n",
       "      <td>M1E</td>\n",
       "      <td>43.763573</td>\n",
       "      <td>-79.188711</td>\n",
       "    </tr>\n",
       "    <tr>\n",
       "      <th>3</th>\n",
       "      <td>M1G</td>\n",
       "      <td>43.770992</td>\n",
       "      <td>-79.216917</td>\n",
       "    </tr>\n",
       "    <tr>\n",
       "      <th>4</th>\n",
       "      <td>M1H</td>\n",
       "      <td>43.773136</td>\n",
       "      <td>-79.239476</td>\n",
       "    </tr>\n",
       "  </tbody>\n",
       "</table>\n",
       "</div>"
      ],
      "text/plain": [
       "  Postal Code   Latitude  Longitude\n",
       "0         M1B  43.806686 -79.194353\n",
       "1         M1C  43.784535 -79.160497\n",
       "2         M1E  43.763573 -79.188711\n",
       "3         M1G  43.770992 -79.216917\n",
       "4         M1H  43.773136 -79.239476"
      ]
     },
     "execution_count": 2,
     "metadata": {},
     "output_type": "execute_result"
    }
   ],
   "source": [
    "# Read contents of csv file and assign data to new named DataFrame geo_DF\n",
    "geo_DF = pd.read_csv('http://cocl.us/Geospatial_data')\n",
    "# Display updated dataframe as confirmation of successful update\n",
    "geo_DF.head()"
   ]
  },
  {
   "cell_type": "code",
   "execution_count": 3,
   "metadata": {},
   "outputs": [
    {
     "name": "stdout",
     "output_type": "stream",
     "text": [
      "['M1B', 'M1C', 'M1E', 'M1G', 'M1H', 'M1J', 'M1K', 'M1L', 'M1M', 'M1N', 'M1P', 'M1R', 'M1S', 'M1T', 'M1V', 'M1W', 'M1X', 'M2H', 'M2J', 'M2K', 'M2L', 'M2M', 'M2N', 'M2P', 'M2R', 'M3A', 'M3B', 'M3C', 'M3H', 'M3J', 'M3K', 'M3L', 'M3M', 'M3N', 'M4A', 'M4B', 'M4C', 'M4E', 'M4G', 'M4H', 'M4J', 'M4K', 'M4L', 'M4M', 'M4N', 'M4P', 'M4R', 'M4S', 'M4T', 'M4V', 'M4W', 'M4X', 'M4Y', 'M5A', 'M5B', 'M5C', 'M5E', 'M5G', 'M5H', 'M5J', 'M5K', 'M5L', 'M5M', 'M5N', 'M5P', 'M5R', 'M5S', 'M5T', 'M5V', 'M5W', 'M5X', 'M6A', 'M6B', 'M6C', 'M6E', 'M6G', 'M6H', 'M6J', 'M6K', 'M6L', 'M6M', 'M6N', 'M6P', 'M6R', 'M6S', 'M7A', 'M7R', 'M7Y', 'M8V', 'M8W', 'M8X', 'M8Y', 'M8Z', 'M9A', 'M9B', 'M9C', 'M9L', 'M9M', 'M9N', 'M9P', 'M9R', 'M9V', 'M9W']\n"
     ]
    }
   ],
   "source": [
    "# Unpack DataFrame values from the Postal Code column and\n",
    "#  assign values to the newly named variable geo_lst1\n",
    "geo_lst1 = list(geo_DF['Postal Code'])\n",
    "# Display geo_lst1 as confirmation of successful creation\n",
    "print(geo_lst1)"
   ]
  },
  {
   "cell_type": "code",
   "execution_count": 4,
   "metadata": {},
   "outputs": [
    {
     "name": "stdout",
     "output_type": "stream",
     "text": [
      "[43.806686299999996, 43.7845351, 43.7635726, 43.7709921, 43.773136, 43.7447342, 43.7279292, 43.711111700000004, 43.716316, 43.692657000000004, 43.7574096, 43.750071500000004, 43.7942003, 43.7816375, 43.8152522, 43.799525200000005, 43.836124700000006, 43.8037622, 43.7785175, 43.7869473, 43.7574902, 43.789053, 43.7701199, 43.752758299999996, 43.7827364, 43.7532586, 43.745905799999996, 43.72589970000001, 43.7543283, 43.7679803, 43.737473200000004, 43.7390146, 43.7284964, 43.7616313, 43.725882299999995, 43.7063972, 43.695343900000005, 43.67635739999999, 43.7090604, 43.7053689, 43.685347, 43.6795571, 43.6689985, 43.6595255, 43.7280205, 43.7127511, 43.7153834, 43.7043244, 43.6895743, 43.68641229999999, 43.6795626, 43.667967, 43.6658599, 43.6542599, 43.6571618, 43.6514939, 43.644770799999996, 43.6579524, 43.65057120000001, 43.6408157, 43.6471768, 43.6481985, 43.7332825, 43.7116948, 43.6969476, 43.6727097, 43.6626956, 43.6532057, 43.6289467, 43.6464352, 43.6484292, 43.718517999999996, 43.709577, 43.6937813, 43.6890256, 43.669542, 43.66900510000001, 43.647926700000006, 43.6368472, 43.713756200000006, 43.6911158, 43.67318529999999, 43.6616083, 43.6489597, 43.6515706, 43.6623015, 43.6369656, 43.6627439, 43.6056466, 43.60241370000001, 43.653653600000005, 43.6362579, 43.6288408, 43.6678556, 43.6509432, 43.6435152, 43.7563033, 43.7247659, 43.706876, 43.696319, 43.6889054, 43.739416399999996, 43.706748299999994]\n"
     ]
    }
   ],
   "source": [
    "# Unpack DataFrame values from the Latitude column and\n",
    "#  assign values to the newly named variable geo_lst2\n",
    "geo_lst2 = list(geo_DF['Latitude'])\n",
    "# Display geo_lst1 as confirmation of successful creation\n",
    "print(geo_lst2)"
   ]
  },
  {
   "cell_type": "code",
   "execution_count": 5,
   "metadata": {},
   "outputs": [
    {
     "name": "stdout",
     "output_type": "stream",
     "text": [
      "[-79.19435340000001, -79.16049709999999, -79.1887115, -79.21691740000001, -79.23947609999999, -79.23947609999999, -79.26202940000002, -79.2845772, -79.23947609999999, -79.2648481, -79.27330400000001, -79.2958491, -79.26202940000002, -79.3043021, -79.2845772, -79.3183887, -79.20563609999999, -79.3634517, -79.3465557, -79.385975, -79.37471409999999, -79.40849279999999, -79.40849279999999, -79.4000493, -79.4422593, -79.3296565, -79.352188, -79.340923, -79.4422593, -79.48726190000001, -79.46476329999999, -79.5069436, -79.49569740000001, -79.52099940000001, -79.31557159999998, -79.309937, -79.3183887, -79.2930312, -79.3634517, -79.34937190000001, -79.3381065, -79.352188, -79.31557159999998, -79.340923, -79.3887901, -79.3901975, -79.40567840000001, -79.3887901, -79.38315990000001, -79.4000493, -79.37752940000001, -79.3676753, -79.38315990000001, -79.3606359, -79.37893709999999, -79.3754179, -79.3733064, -79.3873826, -79.3845675, -79.38175229999999, -79.38157640000001, -79.37981690000001, -79.4197497, -79.41693559999999, -79.41130720000001, -79.40567840000001, -79.4000493, -79.4000493, -79.3944199, -79.37484599999999, -79.3822802, -79.46476329999999, -79.44507259999999, -79.42819140000002, -79.453512, -79.4225637, -79.4422593, -79.4197497, -79.42819140000002, -79.4900738, -79.47601329999999, -79.48726190000001, -79.46476329999999, -79.456325, -79.4844499, -79.3894938, -79.61581899999999, -79.321558, -79.50132070000001, -79.54348409999999, -79.5069436, -79.49850909999999, -79.52099940000001, -79.53224240000002, -79.55472440000001, -79.57720079999999, -79.56596329999999, -79.53224240000002, -79.51818840000001, -79.53224240000002, -79.55472440000001, -79.5884369, -79.5940544]\n"
     ]
    }
   ],
   "source": [
    "# Unpack DataFrame values from the Longitude column and\n",
    "#  assign values to the newly named variable geo_lst3\n",
    "geo_lst3 = list(geo_DF['Longitude'])\n",
    "# Display geo_lst1 as confirmation of successful creation\n",
    "print(geo_lst3)"
   ]
  },
  {
   "cell_type": "code",
   "execution_count": 7,
   "metadata": {},
   "outputs": [],
   "source": [
    "# Unpack and display each row in geo_city_lst\n",
    "for row in geo_city_lst:\n",
    "    print(row)"
   ]
  },
  {
   "cell_type": "code",
   "execution_count": 8,
   "metadata": {},
   "outputs": [
    {
     "data": {
      "text/html": [
       "<div>\n",
       "<style scoped>\n",
       "    .dataframe tbody tr th:only-of-type {\n",
       "        vertical-align: middle;\n",
       "    }\n",
       "\n",
       "    .dataframe tbody tr th {\n",
       "        vertical-align: top;\n",
       "    }\n",
       "\n",
       "    .dataframe thead th {\n",
       "        text-align: right;\n",
       "    }\n",
       "</style>\n",
       "<table border=\"1\" class=\"dataframe\">\n",
       "  <thead>\n",
       "    <tr style=\"text-align: right;\">\n",
       "      <th></th>\n",
       "      <th>PostalCode</th>\n",
       "      <th>Borough</th>\n",
       "      <th>Neighborhood</th>\n",
       "      <th>Latitude</th>\n",
       "      <th>Longitude</th>\n",
       "    </tr>\n",
       "  </thead>\n",
       "  <tbody>\n",
       "  </tbody>\n",
       "</table>\n",
       "</div>"
      ],
      "text/plain": [
       "Empty DataFrame\n",
       "Columns: [PostalCode, Borough, Neighborhood, Latitude, Longitude]\n",
       "Index: []"
      ]
     },
     "execution_count": 8,
     "metadata": {},
     "output_type": "execute_result"
    }
   ],
   "source": [
    "# Assign column names to newly named Pandas dataframe toronto_Geo_DF.\n",
    "toronto_Geo_DF = pd.DataFrame(columns=['PostalCode', 'Borough', 'Neighborhood', 'Latitude', 'Longitude'])\n",
    "# Display new dataframe as confirmation of successful creation.\n",
    "toronto_Geo_DF"
   ]
  },
  {
   "cell_type": "code",
   "execution_count": null,
   "metadata": {},
   "outputs": [
    {
     "name": "stdout",
     "output_type": "stream",
     "text": [
      "Solving environment: done\n",
      "\n",
      "## Package Plan ##\n",
      "\n",
      "  environment location: /opt/conda/envs/Python36\n",
      "\n",
      "  added / updated specs: \n",
      "    - geopy\n",
      "\n",
      "\n",
      "The following packages will be downloaded:\n",
      "\n",
      "    package                    |            build\n",
      "    ---------------------------|-----------------\n",
      "    geographiclib-1.50         |             py_0          34 KB  conda-forge\n",
      "    certifi-2019.11.28         |           py36_0         149 KB  conda-forge\n",
      "    ca-certificates-2019.11.28 |       hecc5488_0         145 KB  conda-forge\n",
      "    geopy-1.21.0               |             py_0          58 KB  conda-forge\n",
      "    openssl-1.1.1d             |       h516909a_0         2.1 MB  conda-forge\n",
      "    ------------------------------------------------------------\n",
      "                                           Total:         2.5 MB\n",
      "\n",
      "The following NEW packages will be INSTALLED:\n",
      "\n",
      "    geographiclib:   1.50-py_0         conda-forge\n",
      "    geopy:           1.21.0-py_0       conda-forge\n",
      "\n",
      "The following packages will be UPDATED:\n",
      "\n",
      "    ca-certificates: 2019.11.27-0                  --> 2019.11.28-hecc5488_0 conda-forge\n",
      "    certifi:         2019.11.28-py36_0             --> 2019.11.28-py36_0     conda-forge\n",
      "\n",
      "The following packages will be DOWNGRADED:\n",
      "\n",
      "    openssl:         1.1.1d-h7b6447c_3             --> 1.1.1d-h516909a_0     conda-forge\n",
      "\n",
      "\n",
      "Downloading and Extracting Packages\n",
      "geographiclib-1.50   | 34 KB     | ##################################### | 100% \n",
      "certifi-2019.11.28   | 149 KB    | ##################################### | 100% \n",
      "ca-certificates-2019 | 145 KB    | ##################################### | 100% \n",
      "geopy-1.21.0         | 58 KB     | ##################################### | 100% \n",
      "openssl-1.1.1d       | 2.1 MB    | ##################################### | 100% \n",
      "Preparing transaction: done\n",
      "Verifying transaction: done\n",
      "Executing transaction: done\n",
      "Solving environment: - "
     ]
    }
   ],
   "source": [
    "import numpy as np # library to handle data in a vectorized manner\n",
    "import json # library to handle JSON files\n",
    "!conda install -c conda-forge geopy --yes\n",
    "from geopy.geocoders import Nominatim # convert an address into latitude and longitude values\n",
    "from pandas.io.json import json_normalize # tranform JSON file into a pandas dataframe\n",
    "\n",
    "# Matplotlib and associated plotting modules\n",
    "import matplotlib.cm as cm\n",
    "import matplotlib.colors as colors\n",
    "\n",
    "# import k-means from clustering stage\n",
    "from sklearn.cluster import KMeans\n",
    "\n",
    "!conda install -c conda-forge folium=0.5.0 --yes \n",
    "import folium # map rendering library\n",
    "\n",
    "print('Libraries imported.')"
   ]
  },
  {
   "cell_type": "code",
   "execution_count": null,
   "metadata": {},
   "outputs": [],
   "source": [
    "address = 'Toronto, ON'\n",
    "\n",
    "geolocator = Nominatim()\n",
    "location = geolocator.geocode(address)\n",
    "latitude = location.latitude\n",
    "longitude = location.longitude\n",
    "print('The geograpical coordinate of Toronto are {}, {}.'.format(latitude, longitude))"
   ]
  },
  {
   "cell_type": "code",
   "execution_count": null,
   "metadata": {},
   "outputs": [],
   "source": [
    "# create map of Toronto using latitude and longitude values\n",
    "map_toronto = folium.Map(location=[latitude, longitude], zoom_start=11)\n",
    "\n",
    "# add markers to map\n",
    "for lat, lng, borough, neighborhood in zip(toronto_Geo_DF['Latitude'], toronto_Geo_DF['Longitude'], toronto_Geo_DF['Borough'], toronto_Geo_DF['Neighborhood']):\n",
    "    label = '{}, {}'.format(neighborhood, borough)\n",
    "    label = folium.Popup(label, parse_html=True)\n",
    "    folium.CircleMarker(\n",
    "        [lat, lng],\n",
    "        radius=5,\n",
    "        popup=label,\n",
    "        color='blue',\n",
    "        fill=True,\n",
    "        fill_color='#3186cc',\n",
    "        fill_opacity=0.7,\n",
    "        parse_html=False).add_to(map_toronto)\n",
    "\n",
    "map_toronto"
   ]
  },
  {
   "cell_type": "code",
   "execution_count": null,
   "metadata": {},
   "outputs": [],
   "source": [
    "downtown_data = toronto_Geo_DF[toronto_Geo_DF['Borough'] == 'Downtown Toronto'].reset_index(drop=True)\n",
    "downtown_data.head()"
   ]
  },
  {
   "cell_type": "code",
   "execution_count": null,
   "metadata": {},
   "outputs": [],
   "source": [
    "# create map of Toronto using latitude and longitude values\n",
    "map_downtown_toronto = folium.Map(location=[latitude, longitude], zoom_start=14)\n",
    "\n",
    "# add markers to map\n",
    "for lat, lng, borough, neighborhood in zip(downtown_data['Latitude'], downtown_data['Longitude'], downtown_data['Borough'], downtown_data['Neighborhood']):\n",
    "    label = '{}, {}'.format(neighborhood, borough)\n",
    "    label = folium.Popup(label, parse_html=True)\n",
    "    folium.CircleMarker(\n",
    "        [lat, lng],\n",
    "        radius=5,\n",
    "        popup=label,\n",
    "        color='blue',\n",
    "        fill=True,\n",
    "        fill_color='#3186cc',\n",
    "        fill_opacity=0.7,\n",
    "        parse_html=False).add_to(map_downtown_toronto)  \n",
    "    \n",
    "map_downtown_toronto"
   ]
  },
  {
   "cell_type": "code",
   "execution_count": null,
   "metadata": {},
   "outputs": [],
   "source": [
    "North_York_data = toronto_Geo_DF[toronto_Geo_DF['Borough'] == 'North York'].reset_index(drop=True)\n",
    "North_York_data.head()"
   ]
  },
  {
   "cell_type": "code",
   "execution_count": null,
   "metadata": {},
   "outputs": [],
   "source": [
    "# create map of North York using latitude and longitude values\n",
    "map_North_York = folium.Map(location=[latitude, longitude], zoom_start=11)\n",
    "\n",
    "# add markers to map\n",
    "for lat, lng, borough, neighborhood in zip(North_York_data['Latitude'], North_York_data['Longitude'], North_York_data['Borough'], North_York_data['Neighborhood']):\n",
    "    label = '{}, {}'.format(neighborhood, borough)\n",
    "    label = folium.Popup(label, parse_html=True)\n",
    "    folium.CircleMarker(\n",
    "        [lat, lng],\n",
    "        radius=5,\n",
    "        popup=label,\n",
    "        color='blue',\n",
    "        fill=True,\n",
    "        fill_color='#3186cc',\n",
    "        fill_opacity=0.7,\n",
    "        parse_html=False).add_to(map_North_York)  \n",
    "\n",
    "map_North_York"
   ]
  },
  {
   "cell_type": "code",
   "execution_count": null,
   "metadata": {},
   "outputs": [],
   "source": [
    "East_York_data = toronto_Geo_DF[toronto_Geo_DF['Borough'] == 'East York'].reset_index(drop=True)\n",
    "East_York_data.head()"
   ]
  },
  {
   "cell_type": "code",
   "execution_count": null,
   "metadata": {},
   "outputs": [],
   "source": [
    "# create map of East York using latitude and longitude values\n",
    "map_East_York = folium.Map(location=[latitude, longitude], zoom_start=13)\n",
    "\n",
    "# add markers to map\n",
    "for lat, lng, borough, neighborhood in zip(East_York_data['Latitude'], East_York_data['Longitude'], East_York_data['Borough'], East_York_data['Neighborhood']):\n",
    "    label = '{}, {}'.format(neighborhood, borough)\n",
    "    label = folium.Popup(label, parse_html=True)\n",
    "    folium.CircleMarker(\n",
    "        [lat, lng],\n",
    "        radius=5,\n",
    "        popup=label,\n",
    "        color='blue',\n",
    "        fill=True,\n",
    "        fill_color='#3186cc',\n",
    "        fill_opacity=0.7,\n",
    "        parse_html=False).add_to(map_East_York)  \n",
    "    \n",
    "map_East_York"
   ]
  },
  {
   "cell_type": "code",
   "execution_count": null,
   "metadata": {},
   "outputs": [],
   "source": [
    "Scarborough_data = toronto_Geo_DF[toronto_Geo_DF['Borough'] == 'Scarborough'].reset_index(drop=True)\n",
    "Scarborough_data.head()"
   ]
  },
  {
   "cell_type": "code",
   "execution_count": null,
   "metadata": {},
   "outputs": [],
   "source": [
    "# create map of Scarborough using latitude and longitude values\n",
    "map_Scarborough = folium.Map(location=[latitude, longitude], zoom_start=11)\n",
    "\n",
    "# add markers to map\n",
    "for lat, lng, borough, neighborhood in zip(Scarborough_data['Latitude'], Scarborough_data['Longitude'], Scarborough_data['Borough'], Scarborough_data['Neighborhood']):\n",
    "    label = '{}, {}'.format(neighborhood, borough)\n",
    "    label = folium.Popup(label, parse_html=True)\n",
    "    folium.CircleMarker(\n",
    "        [lat, lng],\n",
    "        radius=5,\n",
    "        popup=label,\n",
    "        color='blue',\n",
    "        fill=True,\n",
    "        fill_color='#3186cc',\n",
    "        fill_opacity=0.7,\n",
    "        parse_html=False).add_to(map_Scarborough)  \n",
    "    \n",
    "map_Scarborough"
   ]
  },
  {
   "cell_type": "code",
   "execution_count": null,
   "metadata": {},
   "outputs": [],
   "source": [
    "East_Toronto_data = toronto_Geo_DF[toronto_Geo_DF['Borough'] == 'East Toronto'].reset_index(drop=True)\n",
    "East_Toronto_data.head()"
   ]
  },
  {
   "cell_type": "code",
   "execution_count": null,
   "metadata": {},
   "outputs": [],
   "source": [
    "# create map of East Toronto using latitude and longitude values\n",
    "map_East_Toronto = folium.Map(location=[latitude, longitude], zoom_start=13)\n",
    "\n",
    "# add markers to map\n",
    "for lat, lng, borough, neighborhood in zip(East_Toronto_data['Latitude'], East_Toronto_data['Longitude'], East_Toronto_data['Borough'], East_Toronto_data['Neighborhood']):\n",
    "    label = '{}, {}'.format(neighborhood, borough)\n",
    "    label = folium.Popup(label, parse_html=True)\n",
    "    folium.CircleMarker(\n",
    "        [lat, lng],\n",
    "        radius=5,\n",
    "        popup=label,\n",
    "        color='blue',\n",
    "        fill=True,\n",
    "        fill_color='#3186cc',\n",
    "        fill_opacity=0.7,\n",
    "        parse_html=False).add_to(map_East_Toronto)  \n",
    "    \n",
    "map_East_Toronto"
   ]
  },
  {
   "cell_type": "code",
   "execution_count": null,
   "metadata": {},
   "outputs": [],
   "source": [
    "Etobicoke_data = toronto_Geo_DF[toronto_Geo_DF['Borough'] == 'Etobicoke'].reset_index(drop=True)\n",
    "Etobicoke_data.head()"
   ]
  },
  {
   "cell_type": "code",
   "execution_count": null,
   "metadata": {},
   "outputs": [],
   "source": [
    "# create map of East Toronto using latitude and longitude values\n",
    "map_Etobicoke = folium.Map(location=[latitude, longitude], zoom_start=12)\n",
    "\n",
    "# add markers to map\n",
    "for lat, lng, borough, neighborhood in zip(Etobicoke_data['Latitude'], Etobicoke_data['Longitude'], Etobicoke_data['Borough'], Etobicoke_data['Neighborhood']):\n",
    "    label = '{}, {}'.format(neighborhood, borough)\n",
    "    label = folium.Popup(label, parse_html=True)\n",
    "    folium.CircleMarker(\n",
    "        [lat, lng],\n",
    "        radius=5,\n",
    "        popup=label,\n",
    "        color='blue',\n",
    "        fill=True,\n",
    "        fill_color='#3186cc',\n",
    "        fill_opacity=0.7,\n",
    "        parse_html=False).add_to(map_Etobicoke)  \n",
    "    \n",
    "map_Etobicoke"
   ]
  },
  {
   "cell_type": "code",
   "execution_count": null,
   "metadata": {},
   "outputs": [],
   "source": []
  }
 ],
 "metadata": {
  "kernelspec": {
   "display_name": "Python 3.6",
   "language": "python",
   "name": "python3"
  },
  "language_info": {
   "codemirror_mode": {
    "name": "ipython",
    "version": 3
   },
   "file_extension": ".py",
   "mimetype": "text/x-python",
   "name": "python",
   "nbconvert_exporter": "python",
   "pygments_lexer": "ipython3",
   "version": "3.6.9"
  }
 },
 "nbformat": 4,
 "nbformat_minor": 1
}
